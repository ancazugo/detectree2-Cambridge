{
 "cells": [
  {
   "attachments": {},
   "cell_type": "markdown",
   "metadata": {},
   "source": [
    "# Training"
   ]
  },
  {
   "attachments": {},
   "cell_type": "markdown",
   "metadata": {},
   "source": [
    "## Libraries"
   ]
  },
  {
   "cell_type": "code",
   "execution_count": null,
   "metadata": {},
   "outputs": [],
   "source": [
    "!pip install git+https://github.com/PatBall1/detectree2.git"
   ]
  },
  {
   "cell_type": "code",
   "execution_count": null,
   "metadata": {},
   "outputs": [],
   "source": [
    "import os, shutil, glob, time, json, random, yaml\n",
    "from datetime import date, datetime\n",
    "from pathlib import Path\n",
    "from google.colab import drive\n",
    "drive.mount('/content/drive')\n",
    "\n",
    "from detectron2.engine import DefaultPredictor\n",
    "from detectree2.preprocessing.tiling import tile_data_train, to_traintest_folders, tile_data\n",
    "from detectree2.models.predict import predict_on_data\n",
    "from detectree2.models.train import MyTrainer, setup_cfg, register_train_data, remove_registered_data, predictions_on_data, combine_dicts, get_tree_dicts, load_json_arr\n",
    "from detectree2.models.outputs import project_to_geojson, stitch_crowns, clean_crowns, to_eval_geojson, clean_predictions\n",
    "from detectree2.models.evaluation import site_f1_score2\n",
    "from detectron2.utils.visualizer import Visualizer\n",
    "from detectron2.evaluation.coco_evaluation import instances_to_coco_json\n",
    "\n",
    "import cv2\n",
    "import wandb\n",
    "from PIL import Image\n",
    "import rasterio\n",
    "import rioxarray as rxr\n",
    "import geopandas as gpd\n",
    "import numpy as np\n",
    "import matplotlib.pyplot as plt"
   ]
  },
  {
   "cell_type": "code",
   "execution_count": null,
   "metadata": {},
   "outputs": [],
   "source": [
    "from detectree_addons import *"
   ]
  },
  {
   "attachments": {},
   "cell_type": "markdown",
   "metadata": {},
   "source": [
    "## Convert to COCO format"
   ]
  },
  {
   "attachments": {},
   "cell_type": "markdown",
   "metadata": {},
   "source": [
    "The images in all folders need to be converted to the COCO format using detectree2 built-in methods. `preparare_tiled_data` and `to_traintest_folders` must be run only once"
   ]
  },
  {
   "cell_type": "code",
   "execution_count": null,
   "metadata": {},
   "outputs": [],
   "source": [
    "site_path = \"drive/Shareddrives/detectree2_Cambridge/data/Cambridge/\"\n",
    "\n",
    "# Set tiling parameters\n",
    "buffer = 0\n",
    "tile_width = 200\n",
    "tile_height = 200\n",
    "threshold = 0\n",
    "tilename = 'city_center'"
   ]
  },
  {
   "attachments": {},
   "cell_type": "markdown",
   "metadata": {},
   "source": [
    "### Small training dataset"
   ]
  },
  {
   "cell_type": "code",
   "execution_count": null,
   "metadata": {},
   "outputs": [],
   "source": [
    "# Set up input paths\n",
    "small_train_dir = site_path + \"train_small/\"\n",
    "small_crown_path = site_path + \"crowns/tiles_0.25m_160_20_0_train_crowns.shp\"\n",
    "small_rgb_path = site_path + \"rgb/\"\n",
    "small_data_name = 'Cambridge_25cm_2017_small'\n",
    "small_tiles_dir = site_path + \"tiles/\"\n",
    "small_train_dir = site_path + \"train/\"\n",
    "small_test_dir = site_path + \"test/\"\n",
    "\n",
    "small_imgs = read_multiple_rgb(small_rgb_path)\n",
    "\n",
    "# Read in crowns (then filter by an attribute if required)\n",
    "small_crowns = gpd.read_file(small_crown_path)\n",
    "small_crowns = small_crowns.to_crs(small_imgs[0].crs.data)\n",
    "\n",
    "# remove_registered_data(data_name)\n",
    "register_train_data(small_train_dir, small_data_name, val_fold=5)"
   ]
  },
  {
   "cell_type": "code",
   "execution_count": null,
   "metadata": {},
   "outputs": [],
   "source": [
    "prepare_tiled_data_train(small_imgs, small_tiles_dir, tilename = tilename, buffer = buffer,\n",
    "                         tile_size = tile_width, crowns = small_crowns, threshold = threshold, dtype_bool = True)\n",
    "to_traintest_folders(small_tiles_dir, site_path, test_frac=0.1, folds=5)"
   ]
  },
  {
   "attachments": {},
   "cell_type": "markdown",
   "metadata": {},
   "source": [
    "### Large training dataset"
   ]
  },
  {
   "cell_type": "code",
   "execution_count": null,
   "metadata": {},
   "outputs": [],
   "source": [
    "# Set up input paths\n",
    "large_train_dir = site_path + \"train_large/\"\n",
    "large_crown_path = site_path + \"crowns/tiles_0.25m_160_20_0_train_crowns.shp\"\n",
    "large_rgb_path = site_path + \"rgb/\"\n",
    "large_data_name = 'Cambridge_25cm_2017_large'\n",
    "large_tiles_dir = site_path + \"tiles/\"\n",
    "large_train_dir = site_path + \"train/\"\n",
    "large_test_dir = site_path + \"test/\"\n",
    "\n",
    "large_imgs = read_multiple_rgb(large_rgb_path)\n",
    "\n",
    "# Read in crowns (then filter by an attribute if required)\n",
    "large_crowns = gpd.read_file(large_crown_path)\n",
    "large_crowns = large_crowns.to_crs(large_imgs[0].crs.data)\n",
    "\n",
    "# remove_registered_data(data_name)\n",
    "register_train_data(large_train_dir, large_data_name, val_fold=5)"
   ]
  },
  {
   "cell_type": "code",
   "execution_count": null,
   "metadata": {},
   "outputs": [],
   "source": [
    "prepare_tiled_data_train(large_imgs, large_tiles_dir, tilename = tilename, buffer = buffer,\n",
    "                         tile_size = tile_width, crowns = large_crowns, threshold = threshold, dtype_bool = True)\n",
    "to_traintest_folders(large_tiles_dir, site_path, test_frac=0.1, folds=5)"
   ]
  },
  {
   "attachments": {},
   "cell_type": "markdown",
   "metadata": {},
   "source": [
    "### Testing dataset"
   ]
  },
  {
   "cell_type": "code",
   "execution_count": null,
   "metadata": {},
   "outputs": [],
   "source": [
    "test_dir = site_path + \"test_large/\"\n",
    "test_crown_path = site_path + \"crowns/tiles_0.25m_160_20_0_test_crowns.shp\"\n",
    "test_rgb_path = site_path + \"rgb/\"\n",
    "test_tiles_dir = site_path + \"tiles/\"\n",
    "\n",
    "test_imgs = read_multiple_rgb(large_rgb_path)\n",
    "\n",
    "# Read in crowns (then filter by an attribute if required)\n",
    "test_crowns = gpd.read_file(test_crown_path)\n",
    "test_crowns = large_crowns.to_crs(test_imgs[0].crs.data)"
   ]
  },
  {
   "cell_type": "code",
   "execution_count": null,
   "metadata": {},
   "outputs": [],
   "source": [
    "# RUN ONLY ONCE\n",
    "prepare_tiled_data_train(test_imgs, test_tiles_dir, tilename = tilename, buffer = buffer,\n",
    "                         tile_size = tile_width, crowns = test_crowns, threshold = threshold, dtype_bool = True)"
   ]
  }
 ],
 "metadata": {
  "language_info": {
   "name": "python"
  },
  "orig_nbformat": 4
 },
 "nbformat": 4,
 "nbformat_minor": 2
}
