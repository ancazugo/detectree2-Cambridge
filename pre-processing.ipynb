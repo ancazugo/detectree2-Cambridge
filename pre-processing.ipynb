{
 "cells": [
  {
   "attachments": {},
   "cell_type": "markdown",
   "metadata": {},
   "source": [
    "# Tiling"
   ]
  },
  {
   "attachments": {},
   "cell_type": "markdown",
   "metadata": {},
   "source": [
    "## Libraries"
   ]
  },
  {
   "attachments": {},
   "cell_type": "markdown",
   "metadata": {},
   "source": [
    "Install `detectree2` from the GitHub repository. It will download the necessary dependencies (*i.e.,* `detectron2`, `pytorch`)."
   ]
  },
  {
   "cell_type": "code",
   "execution_count": null,
   "metadata": {},
   "outputs": [],
   "source": [
    "!pip install git+https://github.com/PatBall1/detectree2.git"
   ]
  },
  {
   "cell_type": "code",
   "execution_count": null,
   "metadata": {},
   "outputs": [],
   "source": [
    "import os\n",
    "import shutil\n",
    "from pathlib import Path\n",
    "from google.colab import drive\n",
    "drive.mount('/content/drive')\n",
    "\n",
    "from detectron2.engine import DefaultPredictor\n",
    "from detectree2.preprocessing.tiling import tile_data_train, to_traintest_folders, tile_data\n",
    "from detectree2.models.predict import predict_on_data\n",
    "from detectree2.models.train import MyTrainer, setup_cfg\n",
    "from detectree2.models.outputs import project_to_geojson, stitch_crowns, clean_crowns\n",
    "import rasterio\n",
    "import geopandas as gpd\n",
    "import numpy as np\n"
   ]
  },
  {
   "attachments": {},
   "cell_type": "markdown",
   "metadata": {},
   "source": [
    "## Tiling\n",
    "\n",
    "The following code performs the tiling on the 25-cm resolution composite from Cambridge, without the need of crown data."
   ]
  },
  {
   "cell_type": "code",
   "execution_count": null,
   "metadata": {},
   "outputs": [],
   "source": [
    "# Set tiling parameters\n",
    "buffer = 20\n",
    "tile_width = 160\n",
    "tile_height = 160\n",
    "threshold = 0\n",
    "appends = str(tile_width) + \"_\" + str(buffer) + \"_\" + str(threshold)\n",
    "\n",
    "\n",
    "## Cambridge\n",
    "site_path = Path(\"drive/Shareddrives/detectree2_Cambridge/data/Cambridge\")\n",
    "img_path = site_path / 'CityCentre_2017_32630.tif'\n",
    "out_dir = site_path / f'tiles_0.25m_{appends}'\n",
    "\n",
    "# Read in the tiff file\n",
    "data = rasterio.open(img_path)\n",
    "\n",
    "# Tile RGB imagery\n",
    "tile_data(data, out_dir, buffer, tile_width, tile_height)"
   ]
  },
  {
   "attachments": {},
   "cell_type": "markdown",
   "metadata": {},
   "source": [
    "There are 216 after tiling the original 0.25m-resolution RGB image. From these, 23 will be used for training and 9 for testing"
   ]
  },
  {
   "cell_type": "code",
   "execution_count": null,
   "metadata": {},
   "outputs": [],
   "source": [
    "# Select a random sample for pretrained model evaluation\n",
    "tile_names = list(out_dir.glob(\"*.tif\"))\n",
    "n_tiles = len(tile_names)\n",
    "samp_size = 32\n",
    "np.random.seed(0)\n",
    "tile_ind = np.random.randint(high=n_tiles, low=0, size=samp_size)\n",
    "tile_samp = [tile_names[i] for i in tile_ind]\n",
    "png_samp = [Path(str(name)[:-3] + 'png') for name in tile_samp]\n",
    "\n",
    "# Copy tiles to new folder\n",
    "tiles_samp_path = site_path / f'tiles_0.25m_{appends}_samp'\n",
    "tiles_samp_path.mkdir(exist_ok=True)\n",
    "\n",
    "for i,_ in enumerate(tile_samp):\n",
    "  shutil.copy(tile_samp[i], tiles_samp_path)\n",
    "  shutil.copy(png_samp[i], tiles_samp_path)"
   ]
  },
  {
   "attachments": {},
   "cell_type": "markdown",
   "metadata": {},
   "source": [
    "Then, the training and testing datasets need to be split into several folders:\n",
    "- Small training dataset\n",
    "- Large training dataset\n",
    "- Testing dataset"
   ]
  },
  {
   "cell_type": "code",
   "execution_count": null,
   "metadata": {},
   "outputs": [],
   "source": [
    "train_small_dir = site_path / f'0.25m_160_20_0_train_small'\n",
    "train_small_dir.mkdir(exist_ok=True)\n",
    "train_large_dir = site_path / f'0.25m_160_20_0_train_large'\n",
    "train_large_dir.mkdir(exist_ok=True)\n",
    "test_dir = site_path / f'0.25m_160_20_0_test'\n",
    "test_dir.mkdir(exist_ok=True)\n",
    "\n",
    "rand_tiles = np.random.choice(samp_size, samp_size, replace=False)\n",
    "tile_names = list(tiles_samp_path.glob(\"*.tif\"))\n",
    "tile_samp = [tile_names[i] for i in tile_ind]\n",
    "png_samp = [Path(str(name)[:-3] + 'png') for name in tile_samp]\n",
    "\n",
    "for i,_ in enumerate(tile_samp):\n",
    "    \n",
    "    if i < 12:\n",
    "        shutil.copy(tile_samp[i], train_small_dir / 'rgb')\n",
    "        shutil.copy(png_samp[i], train_small_dir / 'rgb')\n",
    "    if i < 24:\n",
    "        shutil.copy(tile_samp[i], train_large_dir / 'rgb')\n",
    "        shutil.copy(png_samp[i], train_large_dir / 'rgb')\n",
    "    else:\n",
    "        shutil.copy(tile_samp[i], test_dir / 'rgb')\n",
    "        shutil.copy(png_samp[i], test_dir / 'rgb')"
   ]
  }
 ],
 "metadata": {
  "language_info": {
   "name": "python"
  },
  "orig_nbformat": 4
 },
 "nbformat": 4,
 "nbformat_minor": 2
}
